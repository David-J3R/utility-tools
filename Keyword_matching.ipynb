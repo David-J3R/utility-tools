{
  "nbformat": 4,
  "nbformat_minor": 0,
  "metadata": {
    "colab": {
      "provenance": []
    },
    "kernelspec": {
      "name": "python3",
      "display_name": "Python 3"
    },
    "language_info": {
      "name": "python"
    }
  },
  "cells": [
    {
      "cell_type": "code",
      "execution_count": null,
      "metadata": {
        "id": "yvCDx5VFsc4K"
      },
      "outputs": [],
      "source": [
        "import pandas as pd\n",
        "import re"
      ]
    },
    {
      "cell_type": "markdown",
      "source": [
        "## Set-up\n"
      ],
      "metadata": {
        "id": "RyAF2kY0HAMK"
      }
    },
    {
      "cell_type": "markdown",
      "source": [
        "In order to categorize the “How did you hear about us” responses more automatically, I am going to use a key dictionary of terms, previously used in our data collected over the last few years, to help me categorize the “How did you hear about us” responses.\n"
      ],
      "metadata": {
        "id": "8NaWQaql3rBp"
      }
    },
    {
      "cell_type": "code",
      "source": [
        "### Convert excel into dictionary ###\n",
        "df = pd.read_excel(\"SRA_categories.xlsx\")\n",
        "\n",
        "# Initialize an empty dictionary\n",
        "result_dict = {}\n",
        "\n",
        "for index, row in df.iterrows():\n",
        "\n",
        "    key = row[0]\n",
        "    values = row[1:].dropna().tolist()\n",
        "    result_dict[key] = values\n",
        "\n",
        "# Print the resulting dictionary\n",
        "print(result_dict)"
      ],
      "metadata": {
        "colab": {
          "base_uri": "https://localhost:8080/"
        },
        "id": "N5uQU9sfNah1",
        "outputId": "60f1c427-9ce1-4df0-bfac-1a5548a1d572"
      },
      "execution_count": null,
      "outputs": [
        {
          "output_type": "stream",
          "name": "stdout",
          "text": [
            "{'InternetResearch': ['Internetrecherche', 'Online', 'recherche internet', 'Internet', 'webseit', 'Site web', 'Internetrecheche', 'Internet', 'Web', 'Eigenrecherche', 'www', 'Websuche', 'safari', 'Suchmaschine', 'Net', 'Browsing'], 'Google': ['Google', 'Google search', 'Online Google', 'Google Recherche', 'Google Suche', 'google.com', 'Googlesuche'], 'SocialMedia': ['Social Media', 'Facebook', 'In Social Media', 'fb', 'socialmedia', 'LinkedIn'], 'Search': ['Search Engine', 'Onlinesuche', 'searching', 'search', 'Web Search', 'Internet Suche', 'screening', 'Websuche', 'Buscando', 'suche', 'engine'], 'Colleague': ['Kollegen', 'team', 'travail', 'Collegue', ' Arbeitskollegin', 'colleague', 'kollege', 'meinem'], 'Gartner': ['Gartner', 'Gartner Magic Quadrant', 'Gardner Report', 'Gartner-Matrix', 'Gartner research on AI-enabled KM', 'Internet Recherche / Gartner Consulting', 'Quadrant'], 'Research': ['Recherche', 'Im Rahmen eines Projekt', 'DMS ', 'Market research', 'DMS Branchenerfahrung', 'researched', 'Projekt', 'market', 'Research', 'ECM Research', 'Consulting', 'Projektgeschäft', 'Recherchen', 'Web research'], 'Recommendation': ['Allgemein bekannt.', 'Unternehmen', 'Empfehlung', 'recommendation', 'Referenz ', 'A contact', 'Netzwerk', 'Empfehlung ', 'Referencia', 'Ehemalige', 'Tipp', 'Referenz', 'Referans'], 'ReviewPlatform': ['Newsletter'], 'Forrester': ['Forrester report'], 'PersonalContact': ['Network', 'Geschäftsführer', 'person', 'Travail', 'Persönlicher'], 'Client': ['Kunden', 'customer', 'Client', 'Lizenzanfrage', 'Support', 'kunde', 'nutzen', 'are', 'haben'], 'LinkedIn': ['linkedin'], 'BDROutreach': ['email', 'mail', 'Perdita'], 'Youtube': ['youtube'], 'Word-of-Mouth': ['mouth ', 'friend', 'Word of Mouth'], 'Employee': ['work', 'worked '], 'Event': ['tradeshow', 'event', 'events '], 'ITPartner': ['partner', 'sap'], 'Advertising': ['advertisement', 'ads', 'werbung'], 'University': ['university', 'uni'], 'AIChatbots': ['copilot', 'chatgpt', 'Ai', 'Chat GPT', 'deepseek'], 'IDC': ['idc', 'marketscape', 'marcetscape', 'benchmark', 'Analysis'], 'Company': ['Firma', 'firm'], 'Referrer': [], 'Newsletter': ['correo', 'news'], 'Spam': ['test', 'testing', 'spam']}\n"
          ]
        },
        {
          "output_type": "stream",
          "name": "stderr",
          "text": [
            "<ipython-input-2-c1123598a4ca>:9: FutureWarning: Series.__getitem__ treating keys as positions is deprecated. In a future version, integer keys will always be treated as labels (consistent with DataFrame behavior). To access a value by position, use `ser.iloc[pos]`\n",
            "  key = row[0]\n"
          ]
        }
      ]
    },
    {
      "cell_type": "code",
      "source": [
        "# Defining categories\n",
        "categories = result_dict"
      ],
      "metadata": {
        "id": "0Owtt_rdsnQf"
      },
      "execution_count": null,
      "outputs": []
    },
    {
      "cell_type": "markdown",
      "source": [
        "Adjusting date format"
      ],
      "metadata": {
        "id": "QBTt_7cQHPZv"
      }
    },
    {
      "cell_type": "code",
      "source": [
        "df = pd.read_excel(\"analyst-forms-01.04.2025.xlsx\")\n",
        "\n",
        "df[\"Date created\"] = pd.to_datetime(df[\"Date created\"], format=\"%d.%m.%Y %H:%M\").dt.date\n",
        "#df[[\"How did you hear about us\", \"Date\"]].head()\n",
        "df.to_excel(\"analystforms-01.04.2025.xlsx\", index=False)"
      ],
      "metadata": {
        "id": "evKVFuuhHSWZ"
      },
      "execution_count": null,
      "outputs": []
    },
    {
      "cell_type": "markdown",
      "source": [
        "## Categorization\n"
      ],
      "metadata": {
        "id": "k56SgdgdHIb-"
      }
    },
    {
      "cell_type": "markdown",
      "source": [
        "Two functions:\n",
        "1. clean_text: will remove punctuation and convert lowercase\n",
        "2. classify_response: it will check each response to all keywords from each category, and then the category with the highest match count will be assigned to the response (by default the \"Other\" is assigned)"
      ],
      "metadata": {
        "id": "dsNKFSD97kv9"
      }
    },
    {
      "cell_type": "code",
      "source": [
        "\n",
        "\n",
        "### Clean text Function ###\n",
        "def clean_text(text):\n",
        "  if not isinstance(text, str):\n",
        "    text = str(text)\n",
        "  text = text.lower() # convert to lowercase\n",
        "  text = re.sub(r'[^\\w\\s]', \"\", text) #remove punctuation\n",
        "  return text\n",
        "\n",
        "### CLassify a single response function ###\n",
        "def classify_response(response, keyword_dict):\n",
        "  response_lower = clean_text(response)\n",
        "\n",
        "  # Initialize as \"Other\"\n",
        "  assigned_category = \"Other\"\n",
        "  highest_match_count = 0\n",
        "\n",
        "  # for each category, check how many keywords are found\n",
        "  for category, keywords in keyword_dict.items():\n",
        "    match_count = 0\n",
        "    for kw in keywords:\n",
        "      # clean and remove punctuation from the keyword\n",
        "      kw_cleaned = clean_text(kw)\n",
        "      # Check if the keyword is present in the response\n",
        "      if kw_cleaned in response_lower:\n",
        "        match_count += 1\n",
        "\n",
        "    # if we have more matches in this category than a previous one\n",
        "    if match_count > highest_match_count:\n",
        "      highest_match_count = match_count\n",
        "      assigned_category = category\n",
        "\n",
        "  return assigned_category"
      ],
      "metadata": {
        "id": "c9_NDLg7vSt2"
      },
      "execution_count": null,
      "outputs": []
    },
    {
      "cell_type": "code",
      "source": [
        "# MAIN SCRIPT\n",
        "\n",
        "def main():\n",
        "\n",
        "  #Create a new column \"SRA\" for the classification\n",
        "  df[\"SRA\"] = df[\"How did you hear about us\"].apply(\n",
        "      lambda x: classify_response(x, categories)) # x: each response from the data\n",
        "\n",
        "  # Save a new .csv\n",
        "  output_file = \"SRA_classified.xlsx\"\n",
        "  df.to_excel(output_file, index=False)\n",
        "  print(f\"Classified data saved to {output_file}\")\n"
      ],
      "metadata": {
        "colab": {
          "base_uri": "https://localhost:8080/"
        },
        "id": "ury5hs_d25W-",
        "outputId": "fbfb82f1-59f1-4e5c-9a05-a942bab853e7"
      },
      "execution_count": null,
      "outputs": [
        {
          "output_type": "stream",
          "name": "stdout",
          "text": [
            "Classified data saved to SRA_classified.xlsx\n"
          ]
        }
      ]
    },
    {
      "cell_type": "code",
      "source": [
        "if __name__ == \"__main__\":\n",
        "  main()"
      ],
      "metadata": {
        "id": "E-OwwiKa6T2Y"
      },
      "execution_count": null,
      "outputs": []
    }
  ]
}