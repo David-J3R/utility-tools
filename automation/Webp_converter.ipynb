{
  "nbformat": 4,
  "nbformat_minor": 0,
  "metadata": {
    "colab": {
      "provenance": []
    },
    "kernelspec": {
      "name": "python3",
      "display_name": "Python 3"
    },
    "language_info": {
      "name": "python"
    }
  },
  "cells": [
    {
      "cell_type": "code",
      "execution_count": null,
      "metadata": {
        "colab": {
          "base_uri": "https://localhost:8080/"
        },
        "id": "gcLygHpBbl0D",
        "outputId": "87aec71a-98e8-44ee-b234-893597ebfd2d"
      },
      "outputs": [
        {
          "output_type": "stream",
          "name": "stdout",
          "text": [
            "Requirement already satisfied: Pillow in /usr/local/lib/python3.11/dist-packages (11.1.0)\n"
          ]
        }
      ],
      "source": [
        "!pip install Pillow"
      ]
    },
    {
      "cell_type": "code",
      "source": [
        "!pip install tqdm"
      ],
      "metadata": {
        "colab": {
          "base_uri": "https://localhost:8080/"
        },
        "id": "ipmd36PJbsRt",
        "outputId": "ba892158-96f7-4820-f900-4ca42f79e6a5"
      },
      "execution_count": null,
      "outputs": [
        {
          "output_type": "stream",
          "name": "stdout",
          "text": [
            "Requirement already satisfied: tqdm in /usr/local/lib/python3.11/dist-packages (4.67.1)\n"
          ]
        }
      ]
    },
    {
      "cell_type": "markdown",
      "source": [
        "# Webp Converter"
      ],
      "metadata": {
        "id": "f_ML3lLWWBu5"
      }
    },
    {
      "cell_type": "markdown",
      "source": [
        "This Colab notebook is designed to convert multiple PNG images to WebP format in one iteration, essentially automating batch conversion. It aims to efficiently process as many PNG images as possible at once."
      ],
      "metadata": {
        "id": "JXK2FyaoWGBz"
      }
    },
    {
      "cell_type": "markdown",
      "source": [
        "## Upload PNG Files"
      ],
      "metadata": {
        "id": "PIIknQXsfFHO"
      }
    },
    {
      "cell_type": "code",
      "source": [
        "# Upload all the png files\n",
        "from google.colab import files\n",
        "import os\n",
        "\n",
        "upload_dir = \"input_images\"\n",
        "os.makedirs(upload_dir, exist_ok=True)\n",
        "\n",
        "print(\"Upload your PNG files\")\n",
        "uploaded = files.upload()\n",
        "\n",
        "for filename in uploaded:\n",
        "    os.rename(filename, os.path.join(upload_dir, filename))\n"
      ],
      "metadata": {
        "colab": {
          "base_uri": "https://localhost:8080/",
          "height": 923
        },
        "id": "hMxICj3Bg8W9",
        "outputId": "4e7bbbbd-e1b5-4c05-f99a-2277dafbdc28"
      },
      "execution_count": null,
      "outputs": [
        {
          "output_type": "stream",
          "name": "stdout",
          "text": [
            "📤 Upload your PNG files\n"
          ]
        },
        {
          "output_type": "display_data",
          "data": {
            "text/plain": [
              "<IPython.core.display.HTML object>"
            ],
            "text/html": [
              "\n",
              "     <input type=\"file\" id=\"files-d58e819c-c2d7-4af7-9c37-adb60a96ba2c\" name=\"files[]\" multiple disabled\n",
              "        style=\"border:none\" />\n",
              "     <output id=\"result-d58e819c-c2d7-4af7-9c37-adb60a96ba2c\">\n",
              "      Upload widget is only available when the cell has been executed in the\n",
              "      current browser session. Please rerun this cell to enable.\n",
              "      </output>\n",
              "      <script>// Copyright 2017 Google LLC\n",
              "//\n",
              "// Licensed under the Apache License, Version 2.0 (the \"License\");\n",
              "// you may not use this file except in compliance with the License.\n",
              "// You may obtain a copy of the License at\n",
              "//\n",
              "//      http://www.apache.org/licenses/LICENSE-2.0\n",
              "//\n",
              "// Unless required by applicable law or agreed to in writing, software\n",
              "// distributed under the License is distributed on an \"AS IS\" BASIS,\n",
              "// WITHOUT WARRANTIES OR CONDITIONS OF ANY KIND, either express or implied.\n",
              "// See the License for the specific language governing permissions and\n",
              "// limitations under the License.\n",
              "\n",
              "/**\n",
              " * @fileoverview Helpers for google.colab Python module.\n",
              " */\n",
              "(function(scope) {\n",
              "function span(text, styleAttributes = {}) {\n",
              "  const element = document.createElement('span');\n",
              "  element.textContent = text;\n",
              "  for (const key of Object.keys(styleAttributes)) {\n",
              "    element.style[key] = styleAttributes[key];\n",
              "  }\n",
              "  return element;\n",
              "}\n",
              "\n",
              "// Max number of bytes which will be uploaded at a time.\n",
              "const MAX_PAYLOAD_SIZE = 100 * 1024;\n",
              "\n",
              "function _uploadFiles(inputId, outputId) {\n",
              "  const steps = uploadFilesStep(inputId, outputId);\n",
              "  const outputElement = document.getElementById(outputId);\n",
              "  // Cache steps on the outputElement to make it available for the next call\n",
              "  // to uploadFilesContinue from Python.\n",
              "  outputElement.steps = steps;\n",
              "\n",
              "  return _uploadFilesContinue(outputId);\n",
              "}\n",
              "\n",
              "// This is roughly an async generator (not supported in the browser yet),\n",
              "// where there are multiple asynchronous steps and the Python side is going\n",
              "// to poll for completion of each step.\n",
              "// This uses a Promise to block the python side on completion of each step,\n",
              "// then passes the result of the previous step as the input to the next step.\n",
              "function _uploadFilesContinue(outputId) {\n",
              "  const outputElement = document.getElementById(outputId);\n",
              "  const steps = outputElement.steps;\n",
              "\n",
              "  const next = steps.next(outputElement.lastPromiseValue);\n",
              "  return Promise.resolve(next.value.promise).then((value) => {\n",
              "    // Cache the last promise value to make it available to the next\n",
              "    // step of the generator.\n",
              "    outputElement.lastPromiseValue = value;\n",
              "    return next.value.response;\n",
              "  });\n",
              "}\n",
              "\n",
              "/**\n",
              " * Generator function which is called between each async step of the upload\n",
              " * process.\n",
              " * @param {string} inputId Element ID of the input file picker element.\n",
              " * @param {string} outputId Element ID of the output display.\n",
              " * @return {!Iterable<!Object>} Iterable of next steps.\n",
              " */\n",
              "function* uploadFilesStep(inputId, outputId) {\n",
              "  const inputElement = document.getElementById(inputId);\n",
              "  inputElement.disabled = false;\n",
              "\n",
              "  const outputElement = document.getElementById(outputId);\n",
              "  outputElement.innerHTML = '';\n",
              "\n",
              "  const pickedPromise = new Promise((resolve) => {\n",
              "    inputElement.addEventListener('change', (e) => {\n",
              "      resolve(e.target.files);\n",
              "    });\n",
              "  });\n",
              "\n",
              "  const cancel = document.createElement('button');\n",
              "  inputElement.parentElement.appendChild(cancel);\n",
              "  cancel.textContent = 'Cancel upload';\n",
              "  const cancelPromise = new Promise((resolve) => {\n",
              "    cancel.onclick = () => {\n",
              "      resolve(null);\n",
              "    };\n",
              "  });\n",
              "\n",
              "  // Wait for the user to pick the files.\n",
              "  const files = yield {\n",
              "    promise: Promise.race([pickedPromise, cancelPromise]),\n",
              "    response: {\n",
              "      action: 'starting',\n",
              "    }\n",
              "  };\n",
              "\n",
              "  cancel.remove();\n",
              "\n",
              "  // Disable the input element since further picks are not allowed.\n",
              "  inputElement.disabled = true;\n",
              "\n",
              "  if (!files) {\n",
              "    return {\n",
              "      response: {\n",
              "        action: 'complete',\n",
              "      }\n",
              "    };\n",
              "  }\n",
              "\n",
              "  for (const file of files) {\n",
              "    const li = document.createElement('li');\n",
              "    li.append(span(file.name, {fontWeight: 'bold'}));\n",
              "    li.append(span(\n",
              "        `(${file.type || 'n/a'}) - ${file.size} bytes, ` +\n",
              "        `last modified: ${\n",
              "            file.lastModifiedDate ? file.lastModifiedDate.toLocaleDateString() :\n",
              "                                    'n/a'} - `));\n",
              "    const percent = span('0% done');\n",
              "    li.appendChild(percent);\n",
              "\n",
              "    outputElement.appendChild(li);\n",
              "\n",
              "    const fileDataPromise = new Promise((resolve) => {\n",
              "      const reader = new FileReader();\n",
              "      reader.onload = (e) => {\n",
              "        resolve(e.target.result);\n",
              "      };\n",
              "      reader.readAsArrayBuffer(file);\n",
              "    });\n",
              "    // Wait for the data to be ready.\n",
              "    let fileData = yield {\n",
              "      promise: fileDataPromise,\n",
              "      response: {\n",
              "        action: 'continue',\n",
              "      }\n",
              "    };\n",
              "\n",
              "    // Use a chunked sending to avoid message size limits. See b/62115660.\n",
              "    let position = 0;\n",
              "    do {\n",
              "      const length = Math.min(fileData.byteLength - position, MAX_PAYLOAD_SIZE);\n",
              "      const chunk = new Uint8Array(fileData, position, length);\n",
              "      position += length;\n",
              "\n",
              "      const base64 = btoa(String.fromCharCode.apply(null, chunk));\n",
              "      yield {\n",
              "        response: {\n",
              "          action: 'append',\n",
              "          file: file.name,\n",
              "          data: base64,\n",
              "        },\n",
              "      };\n",
              "\n",
              "      let percentDone = fileData.byteLength === 0 ?\n",
              "          100 :\n",
              "          Math.round((position / fileData.byteLength) * 100);\n",
              "      percent.textContent = `${percentDone}% done`;\n",
              "\n",
              "    } while (position < fileData.byteLength);\n",
              "  }\n",
              "\n",
              "  // All done.\n",
              "  yield {\n",
              "    response: {\n",
              "      action: 'complete',\n",
              "    }\n",
              "  };\n",
              "}\n",
              "\n",
              "scope.google = scope.google || {};\n",
              "scope.google.colab = scope.google.colab || {};\n",
              "scope.google.colab._files = {\n",
              "  _uploadFiles,\n",
              "  _uploadFilesContinue,\n",
              "};\n",
              "})(self);\n",
              "</script> "
            ]
          },
          "metadata": {}
        },
        {
          "output_type": "stream",
          "name": "stdout",
          "text": [
            "Saving Screenshot 2025-04-20 104701.png to Screenshot 2025-04-20 104701.png\n",
            "Saving Screenshot 2025-04-20 104719.png to Screenshot 2025-04-20 104719.png\n",
            "Saving Screenshot 2025-04-20 104739.png to Screenshot 2025-04-20 104739.png\n",
            "Saving Screenshot 2025-04-20 104819.png to Screenshot 2025-04-20 104819.png\n",
            "Saving Screenshot 2025-04-20 104841.png to Screenshot 2025-04-20 104841.png\n",
            "Saving Screenshot 2025-04-20 104905.png to Screenshot 2025-04-20 104905.png\n",
            "Saving Screenshot 2025-04-20 104954.png to Screenshot 2025-04-20 104954.png\n",
            "Saving Screenshot 2025-04-20 105024.png to Screenshot 2025-04-20 105024.png\n",
            "Saving Screenshot 2025-04-20 105038.png to Screenshot 2025-04-20 105038.png\n",
            "Saving Screenshot 2025-04-20 105100.png to Screenshot 2025-04-20 105100.png\n",
            "Saving Screenshot 2025-04-20 105129.png to Screenshot 2025-04-20 105129.png\n",
            "Saving Screenshot 2025-04-20 105150.png to Screenshot 2025-04-20 105150.png\n",
            "Saving Screenshot 2025-04-20 105207.png to Screenshot 2025-04-20 105207.png\n",
            "Saving Screenshot 2025-04-20 105246.png to Screenshot 2025-04-20 105246.png\n",
            "Saving Screenshot 2025-04-20 105311.png to Screenshot 2025-04-20 105311.png\n",
            "Saving Screenshot 2025-04-20 105352.png to Screenshot 2025-04-20 105352.png\n",
            "Saving Screenshot 2025-04-20 105404.png to Screenshot 2025-04-20 105404.png\n",
            "Saving Screenshot 2025-04-20 105426.png to Screenshot 2025-04-20 105426.png\n",
            "Saving Screenshot 2025-04-20 105440.png to Screenshot 2025-04-20 105440.png\n",
            "Saving Screenshot 2025-04-20 105502.png to Screenshot 2025-04-20 105502.png\n",
            "Saving Screenshot 2025-04-20 105525.png to Screenshot 2025-04-20 105525.png\n",
            "Saving Screenshot 2025-04-20 105547.png to Screenshot 2025-04-20 105547.png\n",
            "Saving Screenshot 2025-04-20 105600.png to Screenshot 2025-04-20 105600.png\n",
            "Saving Screenshot 2025-04-20 105614.png to Screenshot 2025-04-20 105614.png\n",
            "Saving Screenshot 2025-04-20 105624.png to Screenshot 2025-04-20 105624.png\n"
          ]
        }
      ]
    },
    {
      "cell_type": "markdown",
      "source": [
        "## Converter"
      ],
      "metadata": {
        "id": "4NTvgHAbfJQw"
      }
    },
    {
      "cell_type": "markdown",
      "source": [
        "Steps (Assisted by AI [Claude Sonnet 3.7]):\n",
        "\n",
        "1. Import Necessary Libraries:\n",
        "\n",
        "  - PIL (Pillow): Used for image manipulation (opening, resizing, saving).\n",
        "  - tqdm: Used to display the progress bar.\n",
        "\n",
        "2. Setup Output Directory:\n",
        "\n",
        "  - Creates a directory named \"webp_images\" to store the converted WebP images.\n",
        "\n",
        "3. Configuration:\n",
        "\n",
        "  - resize_to: A tuple specifying the desired width and height for resizing.\n",
        "   - quality: An integer representing the quality of the WebP images (0-100).\n",
        "\n",
        "4. File Handling:\n",
        "\n",
        "  - png_files: Get a list of all PNG files in upload_dir\n",
        "\n",
        "5. Conversion Loop:\n",
        "\n",
        "  - Iterates through each PNG file using tqdm to display a progress bar.\n",
        "  - Opens the PNG image.\n",
        "  - Converts color mode to RGBA to preserve transparency\n",
        "  - Optionally resizes the image using thumbnail with Image.LANCZOS for high-quality downsampling.\n",
        "  - Saves the image in WebP format with the specified quality.\n",
        "\n",
        "6. Confirmation"
      ],
      "metadata": {
        "id": "id4-vRiCX8u2"
      }
    },
    {
      "cell_type": "code",
      "source": [
        "# Convert + Resize + Progress bar\n",
        "from PIL import Image\n",
        "from tqdm import tqdm\n",
        "\n",
        "output_dir = \"webp_images\"\n",
        "os.makedirs(output_dir, exist_ok=True)\n",
        "\n",
        "resize_to = (800, 600)  # Set to None to skip resizing\n",
        "quality = 85 # Good quality for website images\n",
        "\n",
        "# Check only .png files\n",
        "png_files = [f for f in os.listdir(upload_dir) if f.lower().endswith(\".png\")]\n",
        "\n",
        "for filename in tqdm(png_files, desc=\"Converting\"):\n",
        "    input_path = os.path.join(upload_dir, filename)\n",
        "    output_path = os.path.join(output_dir, os.path.splitext(filename)[0] + \".webp\")\n",
        "\n",
        "    with Image.open(input_path) as img:\n",
        "        img = img.convert(\"RGBA\")\n",
        "        if resize_to:\n",
        "            img.thumbnail(resize_to, Image.LANCZOS)\n",
        "        img.save(output_path, \"webp\", quality=quality)\n",
        "\n",
        "print(f\"✅ Converted {len(png_files)} images.\")\n"
      ],
      "metadata": {
        "id": "wfeSyYEGcNY3",
        "colab": {
          "base_uri": "https://localhost:8080/"
        },
        "outputId": "0036698f-9dec-462e-a71e-a17fb3847c1d"
      },
      "execution_count": null,
      "outputs": [
        {
          "output_type": "stream",
          "name": "stderr",
          "text": [
            "Converting: 100%|██████████| 25/25 [00:02<00:00,  9.88it/s]"
          ]
        },
        {
          "output_type": "stream",
          "name": "stdout",
          "text": [
            "✅ Converted 25 images.\n"
          ]
        },
        {
          "output_type": "stream",
          "name": "stderr",
          "text": [
            "\n"
          ]
        }
      ]
    },
    {
      "cell_type": "code",
      "source": [
        "import shutil\n",
        "from google.colab import files\n",
        "\n",
        "# Zip the folder\n",
        "shutil.make_archive(\"webp_images\", \"zip\", \"webp_images\")\n",
        "\n",
        "# Download the ZIP\n",
        "files.download(\"webp_images.zip\")\n"
      ],
      "metadata": {
        "colab": {
          "base_uri": "https://localhost:8080/",
          "height": 17
        },
        "id": "GJx1YSrxx9PD",
        "outputId": "c3de9740-b77c-44fe-a319-e035126fedff"
      },
      "execution_count": null,
      "outputs": [
        {
          "output_type": "display_data",
          "data": {
            "text/plain": [
              "<IPython.core.display.Javascript object>"
            ],
            "application/javascript": [
              "\n",
              "    async function download(id, filename, size) {\n",
              "      if (!google.colab.kernel.accessAllowed) {\n",
              "        return;\n",
              "      }\n",
              "      const div = document.createElement('div');\n",
              "      const label = document.createElement('label');\n",
              "      label.textContent = `Downloading \"${filename}\": `;\n",
              "      div.appendChild(label);\n",
              "      const progress = document.createElement('progress');\n",
              "      progress.max = size;\n",
              "      div.appendChild(progress);\n",
              "      document.body.appendChild(div);\n",
              "\n",
              "      const buffers = [];\n",
              "      let downloaded = 0;\n",
              "\n",
              "      const channel = await google.colab.kernel.comms.open(id);\n",
              "      // Send a message to notify the kernel that we're ready.\n",
              "      channel.send({})\n",
              "\n",
              "      for await (const message of channel.messages) {\n",
              "        // Send a message to notify the kernel that we're ready.\n",
              "        channel.send({})\n",
              "        if (message.buffers) {\n",
              "          for (const buffer of message.buffers) {\n",
              "            buffers.push(buffer);\n",
              "            downloaded += buffer.byteLength;\n",
              "            progress.value = downloaded;\n",
              "          }\n",
              "        }\n",
              "      }\n",
              "      const blob = new Blob(buffers, {type: 'application/binary'});\n",
              "      const a = document.createElement('a');\n",
              "      a.href = window.URL.createObjectURL(blob);\n",
              "      a.download = filename;\n",
              "      div.appendChild(a);\n",
              "      a.click();\n",
              "      div.remove();\n",
              "    }\n",
              "  "
            ]
          },
          "metadata": {}
        },
        {
          "output_type": "display_data",
          "data": {
            "text/plain": [
              "<IPython.core.display.Javascript object>"
            ],
            "application/javascript": [
              "download(\"download_54f925d5-8a09-4543-addf-accbba0f347d\", \"webp_images.zip\", 777948)"
            ]
          },
          "metadata": {}
        }
      ]
    }
  ]
}
