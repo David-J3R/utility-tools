{
  "nbformat": 4,
  "nbformat_minor": 0,
  "metadata": {
    "colab": {
      "provenance": []
    },
    "kernelspec": {
      "name": "python3",
      "display_name": "Python 3"
    },
    "language_info": {
      "name": "python"
    }
  },
  "cells": [
    {
      "cell_type": "code",
      "source": [
        "pip install qrcode[pil]"
      ],
      "metadata": {
        "colab": {
          "base_uri": "https://localhost:8080/"
        },
        "id": "51A9s9SgQDAC",
        "outputId": "07520348-c4f6-4581-a4a9-748bc8cee09f"
      },
      "execution_count": 2,
      "outputs": [
        {
          "output_type": "stream",
          "name": "stdout",
          "text": [
            "Collecting qrcode[pil]\n",
            "  Downloading qrcode-8.2-py3-none-any.whl.metadata (17 kB)\n",
            "Requirement already satisfied: pillow>=9.1.0 in /usr/local/lib/python3.11/dist-packages (from qrcode[pil]) (11.2.1)\n",
            "Downloading qrcode-8.2-py3-none-any.whl (45 kB)\n",
            "\u001b[?25l   \u001b[90m━━━━━━━━━━━━━━━━━━━━━━━━━━━━━━━━━━━━━━━━\u001b[0m \u001b[32m0.0/46.0 kB\u001b[0m \u001b[31m?\u001b[0m eta \u001b[36m-:--:--\u001b[0m\r\u001b[2K   \u001b[90m━━━━━━━━━━━━━━━━━━━━━━━━━━━━━━━━━━━━━━━━\u001b[0m \u001b[32m46.0/46.0 kB\u001b[0m \u001b[31m1.7 MB/s\u001b[0m eta \u001b[36m0:00:00\u001b[0m\n",
            "\u001b[?25hInstalling collected packages: qrcode\n",
            "Successfully installed qrcode-8.2\n"
          ]
        }
      ]
    },
    {
      "cell_type": "code",
      "execution_count": 4,
      "metadata": {
        "colab": {
          "base_uri": "https://localhost:8080/"
        },
        "id": "QHvYbcYvP-XR",
        "outputId": "8ec8e11d-8960-4ba0-dd93-6ed028c9c351"
      },
      "outputs": [
        {
          "output_type": "stream",
          "name": "stdout",
          "text": [
            "QR Generate!\n"
          ]
        }
      ],
      "source": [
        "\n",
        "import qrcode\n",
        "\n",
        "\n",
        "url = \"https://david-gl3z.com/\"\n",
        "\n",
        "# Create a QR object\n",
        "qr = qrcode.QRCode(\n",
        "    version=1,  # Size of the QR Code\n",
        "    error_correction=qrcode.constants.ERROR_CORRECT_H,  # Level of error (H highest one)\n",
        "    box_size=10,\n",
        "    border=4,\n",
        ")\n",
        "\n",
        "# Add Data\n",
        "qr.add_data(url)\n",
        "qr.make(fit=True)\n",
        "\n",
        "# Generate QR\n",
        "img = qr.make_image(fill_color=\"black\", back_color=\"white\")\n",
        "\n",
        "# Save it\n",
        "img.save(\"codigo_qr.png\")\n",
        "\n",
        "print(\"QR Generate!\")\n"
      ]
    }
  ]
}
